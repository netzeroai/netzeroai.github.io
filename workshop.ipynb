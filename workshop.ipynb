{
 "cells": [
  {
   "cell_type": "raw",
   "id": "13d098b5",
   "metadata": {},
   "source": [
    "---\n",
    "title: \"Towards Net-Zero Aviation with AI\"\n",
    "title-block-banner: 'images/sustainable.png'\n",
    "title-block-banner-color: '#000000'\n",
    "subtitle: \"A mini-workshop | June 4-5 2024 | Georgia Institute of Technology\"\n",
    "---"
   ]
  },
  {
   "cell_type": "markdown",
   "id": "4a965e04",
   "metadata": {},
   "source": [
    "# Workshop resources\n",
    "\n",
    "This page outlines resources that will be useful during the workshop and serves as a guide.\n",
    "\n",
    "### Front board\n",
    "\n",
    "The board is split into four main themes and one ancillary section. These themes correspond to areas that are important from a sustainability perspective:\n",
    "\n",
    "- Sustainable aviation fuel\n",
    "- Airport energy & infrastructure\n",
    "- Emissions & contrails\n",
    "- Aircraft and airport waste\n",
    "\n",
    "This list is not exhaustive, and during the workshop if other themes emerge, they will be included or merged with these four. Below these headers, participants are invited to write down thoughts on what role AI can play on provided post-it notes. Some broadstrokes may include:\n",
    "\n",
    "1. calculating, monitoring, or forecasting different quantities that can help better understand anthropogenic climate drivers (e.g., energy consumption, warming due to emissions and persistent contrails, estimating humidity at altitute);\n",
    "\n",
    "2. identifying new strategies or initiatives that can reduce anthropogenic climate forcing (e.g., flight path optimization, SAF feedstock optimization);\n",
    "\n",
    "3. evaluating the success of existing and future policy (e.g., using agent-based models).\n",
    "\n",
    "The ancillary section of the board, titled *Aspiration*, is reserved for participants to write down what they hope to learn or achieve through this workshop. During registration (while collecting badges), all participants will be asked to write their aspirations on a provided post-it note and place it under the Aspiration heading on the board.\n",
    "\n",
    "At the end of the workshop, a picture of all the post-it notes will be taken and processed using a *large language model (LLM)* to generate 1-2 whitepaper drafts that will be shared with all the participants.\n",
    "\n",
    "![](images/llm.jpg){width=\"50%\"}"
   ]
  },
  {
   "cell_type": "markdown",
   "id": "74eff3c4",
   "metadata": {},
   "source": [
    "### White papers\n",
    "\n",
    "[Cambridge University Press' Data-Centric Engineering](https://www.cambridge.org/core/journals/data-centric-engineering) journal has agreed to receive a 1-2 white papers that come out of this mini-workshop. These would be treated as invited papers and therefore they will go through an expedited review process. White papers will be coordinated with participants through Overleaf. \n",
    "\n",
    "![](images/dce.png){width=\"100%\"}"
   ]
  },
  {
   "cell_type": "markdown",
   "id": "ad8cf307",
   "metadata": {},
   "source": [
    "### Q&As\n",
    "\n",
    "Due to the technical and regulatory complexity of the workshop topics, participants are encouraged to write down any questions they may have. [A shared document](https://gtvault-my.sharepoint.com/:w:/g/personal/pseshadri34_gatech_edu/EXtHXvYRCDlKk4cJV8vuxikB68IAhvXvYBMUhQqph8t1rg?e=cyeqK7) has been created where everyone can contribute questions and answers."
   ]
  },
  {
   "cell_type": "markdown",
   "id": "0053c186",
   "metadata": {},
   "source": [
    "### Ice-breaking session\n",
    "\n",
    "All participants will be seated in small groups, and during the ice-breaking session, we will be passing a microphone around, asking some of the following questions:\n",
    "\n",
    "- What do you do professionally?\n",
    "- What about climate change (literally ice-breaking!) worries you the most?\n",
    "- What about existing sustainability initiatives makes you feel optimistic?\n",
    "- In the spirit of getting to know each other, tell us one unexpected thing about yourself.\n",
    "\n",
    "Humorous Ice-Breakers (from an LLM):\n",
    "\n",
    "- If you could have any superpower to fight climate change, what would it be and why?\n",
    "- What's your favorite eco-friendly guilty pleasure? (e.g., bamboo toilet paper, reusable straws made of unicorn tears...)\n",
    "- If you were stranded on a desert island and could only bring three sustainable items, what would they be?\n",
    "- If you could design an AI-powered airplane, what ridiculous feature would you include for the sake of sustainability? (Bonus points for puns!)\n",
    "- What's the most absurd way you can imagine AI helping to reduce airplane contrails?\n",
    "- If you were an AI tasked with making aviation greener, what would your hilarious evil twin AI try to do instead?\n",
    "- Describe the most outlandish sustainable airport of the future, complete with AI-powered amenities.\n",
    "- Share the funniest \"greenwashing\" attempt you've ever seen in the aviation industry.\n"
   ]
  },
  {
   "cell_type": "code",
   "execution_count": null,
   "id": "8f9b633b",
   "metadata": {},
   "outputs": [],
   "source": []
  }
 ],
 "metadata": {
  "kernelspec": {
   "display_name": "Python 3 (ipykernel)",
   "language": "python",
   "name": "python3"
  },
  "language_info": {
   "codemirror_mode": {
    "name": "ipython",
    "version": 3
   },
   "file_extension": ".py",
   "mimetype": "text/x-python",
   "name": "python",
   "nbconvert_exporter": "python",
   "pygments_lexer": "ipython3",
   "version": "3.11.1"
  }
 },
 "nbformat": 4,
 "nbformat_minor": 5
}
