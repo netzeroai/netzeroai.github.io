{
 "cells": [
  {
   "cell_type": "raw",
   "id": "e3c3dac2",
   "metadata": {},
   "source": [
    "---\n",
    "title: \"Towards Net-Zero Aviation with AI\"\n",
    "title-block-banner: 'images/sustainable.png'\n",
    "title-block-banner-color: '#000000'\n",
    "subtitle: \"A mini-workshop | June 4-5 2024 | Georgia Institute of Technology\"\n",
    "---"
   ]
  },
  {
   "cell_type": "markdown",
   "id": "5cf37623",
   "metadata": {},
   "source": [
    "# Workshop resources\n",
    "\n",
    "This page outlines resources that will be useful during the workshop and serves as a guide.\n",
    "\n",
    "### Front board\n",
    "\n",
    "The board is split into four main themes. These themes correspond to areas that are important from a sustainability perspective:\n",
    "\n",
    "- Sustainable aviation fuel\n",
    "- Airport energy & infrastructure\n",
    "- Emissions & contrails\n",
    "- Aircraft and airport waste\n",
    "\n",
    "This list is not exhaustive, and during the workshop if other themes emerge, they will be included or merged with these four. Below these headers, participants are invited to write down thoughts on what role AI can play on provided post-it notes. Some broadstrokes may include:\n",
    "\n",
    "1. calculating, monitoring, or forecasting different quantities that can help better understand anthropogenic climate drivers (e.g., energy consumption, warming due to emissions and persistent contrails, estimating humidity at altitute);\n",
    "\n",
    "2. identifying new strategies or initiatives that can reduce anthropogenic climate forcing (e.g., flight path optimization, SAF feedstock optimization);\n",
    "\n",
    "3. evaluating the success of existing and future policy (e.g., using agent-based models).\n",
    "\n",
    "At the end of the workshop, a picture of all the post-it notes will be taken and processed using a *large language model (LLM)* to generate 1-2 whitepaper drafts that will be shared with all the participants.\n",
    "\n",
    "![](images/llm.jpg){width=\"50%\"}"
   ]
  },
  {
   "cell_type": "markdown",
   "id": "59dd5af0",
   "metadata": {},
   "source": [
    "### White papers\n",
    "\n",
    "[Cambridge University Press' Data-Centric Engineering](https://www.cambridge.org/core/journals/data-centric-engineering) journal has agreed to receive a 1-2 white papers that come out of this mini-workshop. These would be treated as invited papers and therefore they will go through an expedited review process. White papers will be coordinated with participants through Overleaf. \n",
    "\n",
    "![](images/dce.png){width=\"100%\"}"
   ]
  },
  {
   "cell_type": "markdown",
   "id": "98af4150",
   "metadata": {},
   "source": [
    "### Q&As\n",
    "\n",
    "Due to the technical and regulatory complexity of the workshop topics, participants are encouraged to write down any questions they may have. [A shared document](https://gtvault-my.sharepoint.com/:w:/g/personal/pseshadri34_gatech_edu/EXtHXvYRCDlKk4cJV8vuxikB68IAhvXvYBMUhQqph8t1rg?e=cyeqK7) has been created where everyone can contribute questions and answers."
   ]
  }
 ],
 "metadata": {
  "kernelspec": {
   "display_name": "Python 3 (ipykernel)",
   "language": "python",
   "name": "python3"
  },
  "language_info": {
   "codemirror_mode": {
    "name": "ipython",
    "version": 3
   },
   "file_extension": ".py",
   "mimetype": "text/x-python",
   "name": "python",
   "nbconvert_exporter": "python",
   "pygments_lexer": "ipython3",
   "version": "3.11.1"
  }
 },
 "nbformat": 4,
 "nbformat_minor": 5
}
