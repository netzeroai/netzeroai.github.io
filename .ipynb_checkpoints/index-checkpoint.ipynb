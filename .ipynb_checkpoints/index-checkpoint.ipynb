{
 "cells": [
  {
   "cell_type": "raw",
   "id": "3dea1609",
   "metadata": {},
   "source": [
    "---\n",
    "title: \"Towards Net-Zero Aviation with AI\"\n",
    "title-block-banner: '#303E4E'\n",
    "subtitle: \"A mini-workshop | June 4-5 2024 | Georgia Institute of Technology\"\n",
    "abstract-title: \"Workshop summary\"\n",
    "abstract: \"The objective of this mini-workshop is to identify specific challenges and artificial intelligence (AI) driven solution strategies for reducing emissions in aviation – encompassing both airline and airports – within the next 3-5 years. Given this stringent deadline, the focus is on enhancing existing operations, infrastructure, and policy rather than developing new aircraft designs.  We will explore how AI, in all its forms, can be a driving force for sustainability in the aviation industry.\"\n",
    "---"
   ]
  },
  {
   "cell_type": "markdown",
   "id": "1887169c",
   "metadata": {},
   "source": [
    "![](images/airport.jpg){width=\"100%\"}"
   ]
  },
  {
   "cell_type": "markdown",
   "id": "0d2fdb09",
   "metadata": {},
   "source": [
    "### Scope\n",
    "\n",
    "Successful AI efforts are underpinned on the availability and ability to mine insightful data. While large amounts of data exist – ranging from flight trajectories to airport traffic records, surveillance videos, satellite images, audio communications, and aircraft performance logs – extracting sustainability insights and forecasting outcomes remains challenging. As with all AI applications, prudence is critical when addressing matters of safety, security, and privacy.\n",
    "\n",
    "![](images/figure.png){width=\"100%\"}\n",
    "\n",
    "This workshop will focus on three key areas:\n",
    "\n",
    "1. **Quantifying Impact**: Identify avenues where AI can more rigorously quantify aviation's climate impact (e.g., developing more precise carbon calculators).\n",
    "\n",
    "2. **Data Collaboration**: Develop approaches for data sharing and sanitization that protect commercial interests while enabling open-source initiatives of benefit to all.\n",
    "\n",
    "3. **Actionable Pathways**: Develop AI-driven implementation strategies, policies, and regulatory directions to reduce carbon and greenhouse gas emissions based on findings from areas 1 and 2.\n",
    "\n",
    "To provide focus, the workshop will address sustainability initiatives related to civil airports and aircraft (both freight and passenger), examining both in-air and ground-based environmental impact. For more information, please click <a href=\"more_info.html\">here</a>. \n",
    "\n",
    "![](images/fig.png){width=\"100%\"}"
   ]
  },
  {
   "cell_type": "markdown",
   "id": "0931d60c",
   "metadata": {},
   "source": [
    "### Speakers & Participants\n",
    "\n",
    "- Melinda Z. Pagliarello | Airports Council International - North America\n",
    "- Benjamin Emerson | Georgia Tech\n",
    "- Davis Lee | Georgia Tech\n",
    "- Amir Roshan | Georgia Tech\n",
    "- Elizabeth Qian | Georgia Tech\n",
    "- Michael Balchanos | Georgia Tech\n",
    "- Levi Boggs | Georgia Tech Research Institute\n",
    "- Nicholas Bojdo | University of Manchester\n",
    "- Dan Rotherham | University of Manchester\n",
    "- Alex Covarrubias | Zensors\n",
    "- Carly Shannon | Linx Strategies LLC\n",
    "- Jen Wolchansky | Mead & Hunt\n",
    "- Sangita Sharma | Delta Air Lines\n",
    "- Rajan Gupta | Centelli\n",
    "- Kevin Staples | Salt Lake City Airport\n",
    "\n",
    "\n",
    "<mark>More names to come here!</mark>"
   ]
  },
  {
   "cell_type": "markdown",
   "id": "880d6635",
   "metadata": {},
   "source": [
    "### Pre-workshop reading\n",
    "\n",
    "The following optional reading list is provided to all participants. \n",
    "\n",
    "- National Academies of Sciences, Engineering, and Medicine. 2009. Guidebook on Preparing Airport Greenhouse Gas Emissions Inventories. Washington, DC: The National Academies Press. https://doi.org/10.17226/14225\n",
    "\n",
    "- Airport Council International. 2023. [Airport Carbon Emissions Reporting Tool, Version 7](https://aci.aero/wp-content/uploads/2023/08/2023_ACERT_v7.0-Brochure.pdf). \n",
    "\n",
    "- Federal Aviation Adminstration. 2021. [Aviation Climate Action Plan](https://www.faa.gov/sites/faa.gov/files/2021-11/Aviation_Climate_Action_Plan.pdf)\n",
    "\n",
    "- International Civil Aviation Organization. 2023. [Carbon Offsetting and Reduction Scheme for International Aviation (CORSIA) ](https://www.icao.int/environmental-protection/CORSIA/Documents/Leaflet_CORSIA_Focal_Points.pdf?_gl=1%2ac0vpp3%2a_ga%2aMjg1ODI5NzAwLjE3MTA0MjExMzM.%2a_ga_992N3YDLBQ%2aMTcxMDQzMjgxOC40LjEuMTcxMDQzMzUzOS4wLjAuMA..)\n",
    "\n",
    "- Department for Transport. 2022. [Jet Zero Strategy: Delivering net zero aviation by 2050](https://assets.publishing.service.gov.uk/media/62e931d48fa8f5033896888a/jet-zero-strategy.pdf). "
   ]
  },
  {
   "cell_type": "markdown",
   "id": "e5b6398c",
   "metadata": {},
   "source": [
    "### Registration\n",
    "\n",
    "Currently, registration is limited to a small pool of academics, aviation industry and government employees. If you are interested in participating in this workshop, please do email Pranay Seshadri (<prse@gatech.edu>)."
   ]
  },
  {
   "cell_type": "markdown",
   "id": "9d7a17cb",
   "metadata": {},
   "source": [
    "### Location\n",
    "\n",
    "\n",
    "![](images/room.jpeg){width=\"60%\"}\n",
    "\n",
    "1280 Prince Gilbert Library Bldg., <br>\n",
    "Georgia Institute of Technology\n",
    "\n",
    "Participants travelling from outside Atlanta are encouraged to consider the <a href=\"https://www.gatechhotel.com\">Georgia Tech Hotel \\& Conference Center</a> for accomodation. It is a 12-15 minute walk from the Library. "
   ]
  },
  {
   "cell_type": "markdown",
   "id": "6dab506e",
   "metadata": {},
   "source": [
    "### Sponsors\n",
    "\n",
    "- Georgia Institute of Technology\n",
    "- United Kingdom Science \\& Innovation Network"
   ]
  },
  {
   "cell_type": "markdown",
   "id": "696dea77",
   "metadata": {},
   "source": [
    "### Talks\n",
    "\n",
    "<mark> Preliminary </mark>\n",
    "\n",
    "<table>\n",
    "  <tr>\n",
    "    <th style=\"width:9%\"> 1</th>\n",
    "     <th style=\"width:25%\">Jen Wolchansky & Carly Shannon </th>\n",
    "    <td>Airport decarbonization landscape & existing challenges</td>\n",
    "  </tr>\n",
    "  <tr>\n",
    "    <th style=\"width:9%\">2</th>\n",
    "      <th style=\"width:25%\">Alex Covarrubias </th>\n",
    "    <td>Foundation AI models for mission critical verticals in airports</td>\n",
    "  </tr>\n",
    "   <tr>\n",
    "    <th style=\"width:9%\">3</th>\n",
    "      <th style=\"width:25%\">Michael Balchanos</th>\n",
    "    <td>Digital engineering and AI-enabled solutions for sustainable infrastructure planning: The ATL aerotropolis</td>\n",
    "  </tr> \n",
    "   <tr>\n",
    "    <th style=\"width:9%\">4</th>\n",
    "      <th style=\"width:25%\">Benjamin Emerson</th>\n",
    "    <td>Sustainable aviation fuels research at Georgia Tech</td>\n",
    "  </tr>\n",
    "   <tr>\n",
    "    <th style=\"width:9%\">5</th>\n",
    "      <th style=\"width:25%\">Dan Rotherham & Nicholas Bojdo </th>\n",
    "    <td>Using flight tracking data and atmospheric weather to estimate aviation emissions</td>\n",
    "  </tr>\n",
    "</table>\n"
   ]
  },
  {
   "cell_type": "code",
   "execution_count": null,
   "id": "d4a52bfa",
   "metadata": {},
   "outputs": [],
   "source": []
  }
 ],
 "metadata": {
  "kernelspec": {
   "display_name": "Python 3 (ipykernel)",
   "language": "python",
   "name": "python3"
  },
  "language_info": {
   "codemirror_mode": {
    "name": "ipython",
    "version": 3
   },
   "file_extension": ".py",
   "mimetype": "text/x-python",
   "name": "python",
   "nbconvert_exporter": "python",
   "pygments_lexer": "ipython3",
   "version": "3.11.1"
  }
 },
 "nbformat": 4,
 "nbformat_minor": 5
}
