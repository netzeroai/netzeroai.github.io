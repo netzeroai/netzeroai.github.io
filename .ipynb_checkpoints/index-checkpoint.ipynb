{
 "cells": [
  {
   "cell_type": "raw",
   "id": "3dea1609",
   "metadata": {},
   "source": [
    "---\n",
    "title: \"Towards Net-Zero Aviation with AI\"\n",
    "title-block-banner: 'images/sustainable.png'\n",
    "title-block-banner-color: '#000000'\n",
    "subtitle: \"A mini-workshop | June 4-5 2024 | Georgia Institute of Technology\"\n",
    "abstract-title: \"Workshop summary\"\n",
    "abstract: \"The objective of this mini-workshop is to identify specific challenges and artificial intelligence (AI) driven solution strategies for reducing emissions in aviation – encompassing both airline and airports – within the next 3-5 years. Given this stringent deadline, the focus is on enhancing existing operations, infrastructure, and policy rather than developing new aircraft designs.  We will explore how AI, in all its forms, can be a driving force for sustainability in the aviation industry.\"\n",
    "---"
   ]
  },
  {
   "cell_type": "markdown",
   "id": "0d2fdb09",
   "metadata": {},
   "source": [
    "\n",
    "![](images/figure.png){width=\"100%\"}"
   ]
  },
  {
   "attachments": {},
   "cell_type": "markdown",
   "id": "0931d60c",
   "metadata": {},
   "source": [
    "### Speakers & Participants\n",
    "\n",
    "- Melinda Z. Pagliarello | Airports Council International - North America\n",
    "- Benjamin Emerson | Georgia Tech\n",
    "- Elizabeth Qian | Georgia Tech\n",
    "- Michael Balchanos | Georgia Tech\n",
    "- Josiah Hester | Georgia Tech\n",
    "- Tim Lieuwen | Georgia Tech\n",
    "- Valerie Thomas | Georgia Tech\n",
    "- Urvashi Betarbet | Georgia Tech\n",
    "- Mike Buiocchi | Georgia Tech\n",
    "- Xi Wang | Georgia Tech\n",
    "- Howon Lee | Georgia Tech\n",
    "- Dayoung Kang | Georgia Tech\n",
    "- Jeremy Seeyave | Georgia Tech\n",
    "- Nicholas Bojdo | University of Manchester\n",
    "- Dan Rotherham | University of Manchester\n",
    "- Alex Covarrubias | Zensors\n",
    "- Carly Shannon | Linx Strategies LLC\n",
    "- Jen Wolchansky | Mead & Hunt\n",
    "- Sangita Sharma | Delta Air Lines\n",
    "- Jack Semrau | Delta Air Lines\n",
    "- Asteris Apostolidis | KLM Royal Dutch Airlines\n",
    "- Rajan Gupta | Centelli\n",
    "- Kevin Staples | Salt Lake City Airport\n",
    "- Quinta Warren | Hartsfield Jackson Airport\n",
    "- Douglas Rao | North Carolina Institute for Climate Studies\n",
    "- Shashank Yellapantula | National Renewable Energy Laboratory \n",
    "- Brian Kim | Pratt & Whitney\n",
    "- Sebastian Eastham | Imperial College London\n",
    "- Emily Dallara | Boeing\n",
    "- Tejas Puranik | Boeing\n",
    "- Chris Markou | IATA\n",
    "- Dinesh Sanekommu | Google "
   ]
  },
  {
   "cell_type": "markdown",
   "id": "e5b6398c",
   "metadata": {},
   "source": [
    "### Registration\n",
    "\n",
    "Registration is now closed. "
   ]
  },
  {
   "cell_type": "markdown",
   "id": "9d7a17cb",
   "metadata": {},
   "source": [
    "### Location\n",
    "\n",
    "\n",
    "![](images/room.jpeg){width=\"60%\"}\n",
    "\n",
    "1280 Price Gilbert Library Bldg., <br>\n",
    "Georgia Institute of Technology\n",
    "\n",
    "<iframe src=\"https://www.google.com/maps/embed?pb=!1m14!1m8!1m3!1d13265.878707819427!2d-84.3956421!3d33.7743675!3m2!1i1024!2i768!4f13.1!3m3!1m2!1s0x88f504620c8d89ad%3A0x6b68813b275ea210!2sPrice%20Gilbert%20Memorial%20Library!5e0!3m2!1sen!2sus!4v1717203083640!5m2!1sen!2sus\" width=\"600\" height=\"450\" style=\"border:0;\" allowfullscreen=\"\" loading=\"lazy\" referrerpolicy=\"no-referrer-when-downgrade\"></iframe>"
   ]
  },
  {
   "cell_type": "markdown",
   "id": "6dab506e",
   "metadata": {},
   "source": [
    "### Sponsors\n",
    "\n",
    "- Georgia Institute of Technology\n",
    "- United Kingdom Science \\& Innovation Network"
   ]
  },
  {
   "cell_type": "markdown",
   "id": "696dea77",
   "metadata": {},
   "source": [
    "### Agenda (1.5 day workshop)\n",
    "\n",
    "<mark>NOTE: </mark> Please visit the <a href=\"./workshop.html\">workshop page</a> for more information. \n",
    "\n",
    "#### June 4th 2024\n",
    "\n",
    "| Time    | Activity | Speaker  |\n",
    "| -------- | ------- | -------- |\n",
    "| 09:00 - 09:30  | *Registration, coffee and pastries*    |      |\n",
    "| 9:30 - 09:40 | Introductions | P. Seshadri & C. Jones-Parr | \n",
    "| 9:40 - 10:00 | [Airport decarbonization landscape & existing challenges](https://gtvault-my.sharepoint.com/:b:/g/personal/pseshadri34_gatech_edu/Ed7-dAcjCRFEigQiC3SXUXQBh5bK6ktXqCMsrDX2-9buTw?e=HysQOY) | J. Wolchansky & C. Shannon | \n",
    "| 10:00 - 10:30 | [The Road to Netzero: Challenges, Strategies and Solutions](https://gtvault-my.sharepoint.com/:b:/g/personal/pseshadri34_gatech_edu/ER_eHNn34EhHhXsb2bKG2f4BN5cZsVUUTvHMMMqbgwj2aA?e=egNRIg) | K. Staples | \n",
    "| 10:30 - 11:00 | *Airport sustainability panel discussion* | M. Pagliarello | \n",
    "| 11:00 - 11:30 | AI takes flight: Google's approach to support sustainable aviation | D. Sanekommu | \n",
    "| 11:30 - 12:00 | Digital engineering and AI-enabled solutions for sustainable infrastructure planning: The ATL aerotropolis | M. Balchanos | \n",
    "| 12:00 - 12:30 | Foundation AI models for mission critical verticals in airports |  A. Covarrubias   | \n",
    "| 12:30 - 13:30 | *Lunch* |     |\n",
    "| 13:30 - 14:00 | Sustainable fuels research at Georgia Tech | B. Emerson | \n",
    "| 14:00 - 14:30 | Sustainable Aviation: Is SAF the solution? | S. Yellapantula | \n",
    "| 14:30 - 15:30 | *Coffee and breakout session I* |     | \n",
    "| 15:30 - 16:00 | Using flight tracking data and atmospheric weather to estimate aviation emissions | N. Bodjo   |\n",
    "| 16:00 - 16:30 | Data-driven weather and climate application development | D. Rao | \n",
    "| 16:30 - 18:30 | *Break for the day* |       | \n",
    "| 18:30 - 21:30 | Dinner  |       | \n",
    "\n",
    "Dinner venue\n",
    "\n",
    "<iframe src=\"https://www.google.com/maps/embed?pb=!1m18!1m12!1m3!1d6626.231039754863!2d-84.43420862306161!3d33.860913627806795!2m3!1f0!2f0!3f0!3m2!1i1024!2i768!4f13.1!3m3!1m2!1s0x88f50fe4ca15365b%3A0xe82299fb3e7a524c!2s1320%20Beechwood%20Hills%20Ct%20NW%2C%20Atlanta%2C%20GA%2030327!5e0!3m2!1sen!2sus!4v1715445250075!5m2!1sen!2sus\" width=\"600\" height=\"450\" style=\"border:0;\" allowfullscreen=\"\" loading=\"lazy\" referrerpolicy=\"no-referrer-when-downgrade\"></iframe>\n",
    "\n",
    "\n",
    "#### June 5th 2024\n",
    "\n",
    "\n",
    "| Time    | Activity | Speaker  |\n",
    "| -------- | ------- | -------- |\n",
    "| 09:00 - 09:30  | *Coffee and pastries*    |      |\n",
    "| 09:30 - 10:00 | Airline sustainability initatives via AI | A. Apostolidis | \n",
    "| 10:00 - 10:30 | Delta's Sustainability strategy | S. Sharma | \n",
    "| 10:30 - 11:00 | Accelerating contrail avoidance through machine learning | S. Eastham | \n",
    "| 11:00 - 12:30 | *Breakout session II & next steps* |     | "
   ]
  },
  {
   "cell_type": "code",
   "execution_count": null,
   "id": "a0719cee",
   "metadata": {},
   "outputs": [],
   "source": []
  }
 ],
 "metadata": {
  "kernelspec": {
   "display_name": "Python 3 (ipykernel)",
   "language": "python",
   "name": "python3"
  },
  "language_info": {
   "codemirror_mode": {
    "name": "ipython",
    "version": 3
   },
   "file_extension": ".py",
   "mimetype": "text/x-python",
   "name": "python",
   "nbconvert_exporter": "python",
   "pygments_lexer": "ipython3",
   "version": "3.11.1"
  }
 },
 "nbformat": 4,
 "nbformat_minor": 5
}
